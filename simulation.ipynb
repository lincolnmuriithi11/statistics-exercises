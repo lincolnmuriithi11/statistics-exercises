{
 "cells": [
  {
   "cell_type": "code",
   "execution_count": 1,
   "id": "8a8c8f4f",
   "metadata": {},
   "outputs": [
    {
     "ename": "ModuleNotFoundError",
     "evalue": "No module named 'viz'",
     "output_type": "error",
     "traceback": [
      "\u001b[0;31m---------------------------------------------------------------------------\u001b[0m",
      "\u001b[0;31mModuleNotFoundError\u001b[0m                       Traceback (most recent call last)",
      "\u001b[0;32m/var/folders/qg/y1d1577d6_zdj2rfwsn6lwsh0000gn/T/ipykernel_2045/909578601.py\u001b[0m in \u001b[0;36m<module>\u001b[0;34m\u001b[0m\n\u001b[1;32m      3\u001b[0m \u001b[0;32mimport\u001b[0m \u001b[0mpandas\u001b[0m \u001b[0;32mas\u001b[0m \u001b[0mpd\u001b[0m\u001b[0;34m\u001b[0m\u001b[0;34m\u001b[0m\u001b[0m\n\u001b[1;32m      4\u001b[0m \u001b[0;34m\u001b[0m\u001b[0m\n\u001b[0;32m----> 5\u001b[0;31m \u001b[0;32mimport\u001b[0m \u001b[0mviz\u001b[0m \u001b[0;31m# curriculum example visualizations\u001b[0m\u001b[0;34m\u001b[0m\u001b[0;34m\u001b[0m\u001b[0m\n\u001b[0m\u001b[1;32m      6\u001b[0m \u001b[0;34m\u001b[0m\u001b[0m\n\u001b[1;32m      7\u001b[0m \u001b[0mnp\u001b[0m\u001b[0;34m.\u001b[0m\u001b[0mrandom\u001b[0m\u001b[0;34m.\u001b[0m\u001b[0mseed\u001b[0m\u001b[0;34m(\u001b[0m\u001b[0;36m29\u001b[0m\u001b[0;34m)\u001b[0m\u001b[0;34m\u001b[0m\u001b[0;34m\u001b[0m\u001b[0m\n",
      "\u001b[0;31mModuleNotFoundError\u001b[0m: No module named 'viz'"
     ]
    }
   ],
   "source": [
    "%matplotlib inline\n",
    "import numpy as np\n",
    "import pandas as pd\n",
    "\n",
    "import viz # curriculum example visualizations\n",
    "\n",
    "np.random.seed(29)\n",
    "\n"
   ]
  },
  {
   "cell_type": "code",
   "execution_count": null,
   "id": "44ccdfda",
   "metadata": {},
   "outputs": [],
   "source": [
    "# np.random.choice: selects random options from a list\n",
    "# np.random.uniform: generates numbers between a given lower and upper bound\n",
    "# np.random.random: generates numbers between 0 and 1\n",
    "# np.random.randn: generates numbers from the standard normal distribution\n",
    "# np.random.normal: generates numbers from a normal distribution with a specified mean and standard deviation\n"
   ]
  },
  {
   "cell_type": "code",
   "execution_count": null,
   "id": "50ea64d0",
   "metadata": {},
   "outputs": [],
   "source": [
    "# Exercises\n",
    "# Using the repo setup directions, setup a new local and remote repository named statistics-exercises. The local version of your repo should live inside of ~/codeup-data-science. This repo should be named statistics-exercises\n",
    "\n",
    "# Do your work for this exercise in either a python file named simulation.py or a jupyter notebook named simulation.ipynb.\n",
    "\n",
    "# How likely is it that you roll doubles when rolling two dice?\n",
    "\n",
    "# If you flip 8 coins, what is the probability of getting exactly 3 heads? What is the probability of getting more than 3 heads?\n",
    "\n",
    "# There are approximitely 3 web development cohorts for every 1 data science cohort at Codeup. Assuming that Codeup randomly selects an alumni to put on a billboard, what are the odds that the two billboards I drive past both have data science students on them?\n",
    "\n",
    "# Codeup students buy, on average, 3 poptart packages with a standard deviation of 1.5 a day from the snack vending machine. If on monday the machine is restocked with 17 poptart packages, how likely is it that I will be able to buy some poptarts on Friday afternoon? (Remember, if you have mean and standard deviation, use the np.random.normal)\n",
    "\n",
    "# Compare Heights\n",
    "\n",
    "# Men have an average height of 178 cm and standard deviation of 8cm.\n",
    "# Women have a mean of 170, sd = 6cm.\n",
    "# Since you have means and standard deviations, you can use np.random.normal to generate observations.\n",
    "# If a man and woman are chosen at random, what is the likelihood the woman is taller than the man?\n",
    "# When installing anaconda on a student's computer, there's a 1 in 250 chance that the download is corrupted and the installation fails. What are the odds that after having 50 students download anaconda, no one has an installation issue? 100 students?\n",
    "\n",
    "# What is the probability that we observe an installation issue within the first 150 students that download anaconda?\n",
    "\n",
    "# How likely is it that 450 students all download anaconda without an issue?\n",
    "\n",
    "# There's a 70% chance on any given day that there will be at least one food truck at Travis Park. However, you haven't seen a food truck there in 3 days. How unlikely is this?\n",
    "\n",
    "# How likely is it that a food truck will show up sometime this week?\n",
    "\n",
    "# If 23 people are in the same room, what are the odds that two of them share a birthday? What if it's 20 people? 40?"
   ]
  },
  {
   "cell_type": "markdown",
   "id": "74deb0f3",
   "metadata": {},
   "source": [
    "## Generating Random Numbers with Numpy\n",
    "\n",
    "The numpy.random module provides a number of functions for generating random numbers.\n",
    "\n",
    "np.random.choice: selects random options from a list\n",
    "\n",
    "np.random.uniform: generates numbers between a given lower and upper bound\n",
    "\n",
    "np.random.random: generates numbers between 0 and 1\n",
    "\n",
    "np.random.randn: generates numbers from the standard normal distribution\n",
    "\n",
    "np.random.normal: generates numbers from a normal distribution with a specified mean and standard deviation\n"
   ]
  },
  {
   "cell_type": "markdown",
   "id": "4fbd0e2a",
   "metadata": {},
   "source": [
    "# solving a simulation question\n",
    "\n",
    "ntrials = nrows = show how many trials many trials... usually 10000\n",
    "\n",
    "n_dice = n_cols = different items that the randomness has to occur example dice, days etc\n",
    "\n",
    "syntax = random.choice(array, size=(n_rows,n_columns) replace=True, p=None)¶\n",
    "\n",
    "you can convert the numpy array to DF LIKE... rolls_df = pd.DataFrame(rolls, columns=[\"die1\", \"die2\"])\n",
    "\n",
    "then you can use dataframe methods\n",
    "\n"
   ]
  },
  {
   "cell_type": "code",
   "execution_count": null,
   "id": "85c27f1e",
   "metadata": {},
   "outputs": [],
   "source": []
  },
  {
   "cell_type": "code",
   "execution_count": null,
   "id": "4c45a322",
   "metadata": {},
   "outputs": [],
   "source": []
  },
  {
   "cell_type": "markdown",
   "id": "682bb21c",
   "metadata": {},
   "source": [
    "Exercise 1"
   ]
  },
  {
   "cell_type": "code",
   "execution_count": 3,
   "id": "b108e2c8",
   "metadata": {
    "scrolled": true
   },
   "outputs": [
    {
     "data": {
      "text/plain": [
       "array([[6, 6],\n",
       "       [4, 6],\n",
       "       [3, 1],\n",
       "       ...,\n",
       "       [3, 1],\n",
       "       [5, 5],\n",
       "       [2, 4]])"
      ]
     },
     "execution_count": 3,
     "metadata": {},
     "output_type": "execute_result"
    }
   ],
   "source": [
    "# How likely is it that you roll doubles when rolling two dice?\n",
    "n_trials = n_rows = 10_000\n",
    "n_dice  = n_cols = 2\n",
    "rolls = np.random.choice([1,2,3,4,5,6],size=(n_rows, n_cols)) #you canuse size for rows and columns\n",
    "rolls\n",
    "\n",
    "# n_rows = 10_0000\n",
    "# n_cols = 2 # to represent rolling two dice per each simulation\n",
    "# rolls = np.random.choice([1, 2, 3, 4, 5, 6], size=(n_rows, n_cols))\n",
    "# rolls = pd.DataFrame(rolls, columns=[\"die1\", \"die2\"])\n",
    "# rolls.head()"
   ]
  },
  {
   "cell_type": "code",
   "execution_count": 8,
   "id": "8df1dc7b",
   "metadata": {},
   "outputs": [
    {
     "data": {
      "text/plain": [
       "array([[5, 3],\n",
       "       [5, 2],\n",
       "       [6, 3],\n",
       "       ...,\n",
       "       [2, 4],\n",
       "       [5, 6],\n",
       "       [1, 6]])"
      ]
     },
     "execution_count": 8,
     "metadata": {},
     "output_type": "execute_result"
    }
   ],
   "source": [
    "# np.random.choice([1,2,3,4,5,6], size = (n_rows,n_cols))"
   ]
  },
  {
   "cell_type": "code",
   "execution_count": 151,
   "id": "d47dcf1b",
   "metadata": {},
   "outputs": [
    {
     "data": {
      "text/html": [
       "<div>\n",
       "<style scoped>\n",
       "    .dataframe tbody tr th:only-of-type {\n",
       "        vertical-align: middle;\n",
       "    }\n",
       "\n",
       "    .dataframe tbody tr th {\n",
       "        vertical-align: top;\n",
       "    }\n",
       "\n",
       "    .dataframe thead th {\n",
       "        text-align: right;\n",
       "    }\n",
       "</style>\n",
       "<table border=\"1\" class=\"dataframe\">\n",
       "  <thead>\n",
       "    <tr style=\"text-align: right;\">\n",
       "      <th></th>\n",
       "      <th>die1</th>\n",
       "      <th>die2</th>\n",
       "    </tr>\n",
       "  </thead>\n",
       "  <tbody>\n",
       "    <tr>\n",
       "      <th>0</th>\n",
       "      <td>5</td>\n",
       "      <td>1</td>\n",
       "    </tr>\n",
       "    <tr>\n",
       "      <th>1</th>\n",
       "      <td>4</td>\n",
       "      <td>6</td>\n",
       "    </tr>\n",
       "    <tr>\n",
       "      <th>2</th>\n",
       "      <td>3</td>\n",
       "      <td>3</td>\n",
       "    </tr>\n",
       "    <tr>\n",
       "      <th>3</th>\n",
       "      <td>5</td>\n",
       "      <td>4</td>\n",
       "    </tr>\n",
       "    <tr>\n",
       "      <th>4</th>\n",
       "      <td>5</td>\n",
       "      <td>5</td>\n",
       "    </tr>\n",
       "    <tr>\n",
       "      <th>...</th>\n",
       "      <td>...</td>\n",
       "      <td>...</td>\n",
       "    </tr>\n",
       "    <tr>\n",
       "      <th>9995</th>\n",
       "      <td>3</td>\n",
       "      <td>5</td>\n",
       "    </tr>\n",
       "    <tr>\n",
       "      <th>9996</th>\n",
       "      <td>5</td>\n",
       "      <td>1</td>\n",
       "    </tr>\n",
       "    <tr>\n",
       "      <th>9997</th>\n",
       "      <td>6</td>\n",
       "      <td>6</td>\n",
       "    </tr>\n",
       "    <tr>\n",
       "      <th>9998</th>\n",
       "      <td>5</td>\n",
       "      <td>6</td>\n",
       "    </tr>\n",
       "    <tr>\n",
       "      <th>9999</th>\n",
       "      <td>6</td>\n",
       "      <td>2</td>\n",
       "    </tr>\n",
       "  </tbody>\n",
       "</table>\n",
       "<p>10000 rows × 2 columns</p>\n",
       "</div>"
      ],
      "text/plain": [
       "      die1  die2\n",
       "0        5     1\n",
       "1        4     6\n",
       "2        3     3\n",
       "3        5     4\n",
       "4        5     5\n",
       "...    ...   ...\n",
       "9995     3     5\n",
       "9996     5     1\n",
       "9997     6     6\n",
       "9998     5     6\n",
       "9999     6     2\n",
       "\n",
       "[10000 rows x 2 columns]"
      ]
     },
     "execution_count": 151,
     "metadata": {},
     "output_type": "execute_result"
    }
   ],
   "source": [
    "rolls_df = pd.DataFrame(rolls, columns=[\"die1\", \"die2\"])\n",
    "rolls_df"
   ]
  },
  {
   "cell_type": "code",
   "execution_count": 152,
   "id": "43ff9990",
   "metadata": {},
   "outputs": [
    {
     "data": {
      "text/html": [
       "<div>\n",
       "<style scoped>\n",
       "    .dataframe tbody tr th:only-of-type {\n",
       "        vertical-align: middle;\n",
       "    }\n",
       "\n",
       "    .dataframe tbody tr th {\n",
       "        vertical-align: top;\n",
       "    }\n",
       "\n",
       "    .dataframe thead th {\n",
       "        text-align: right;\n",
       "    }\n",
       "</style>\n",
       "<table border=\"1\" class=\"dataframe\">\n",
       "  <thead>\n",
       "    <tr style=\"text-align: right;\">\n",
       "      <th></th>\n",
       "      <th>die1</th>\n",
       "      <th>die2</th>\n",
       "      <th>if_doubles</th>\n",
       "    </tr>\n",
       "  </thead>\n",
       "  <tbody>\n",
       "    <tr>\n",
       "      <th>0</th>\n",
       "      <td>5</td>\n",
       "      <td>1</td>\n",
       "      <td>False</td>\n",
       "    </tr>\n",
       "    <tr>\n",
       "      <th>1</th>\n",
       "      <td>4</td>\n",
       "      <td>6</td>\n",
       "      <td>False</td>\n",
       "    </tr>\n",
       "    <tr>\n",
       "      <th>2</th>\n",
       "      <td>3</td>\n",
       "      <td>3</td>\n",
       "      <td>True</td>\n",
       "    </tr>\n",
       "    <tr>\n",
       "      <th>3</th>\n",
       "      <td>5</td>\n",
       "      <td>4</td>\n",
       "      <td>False</td>\n",
       "    </tr>\n",
       "    <tr>\n",
       "      <th>4</th>\n",
       "      <td>5</td>\n",
       "      <td>5</td>\n",
       "      <td>True</td>\n",
       "    </tr>\n",
       "    <tr>\n",
       "      <th>...</th>\n",
       "      <td>...</td>\n",
       "      <td>...</td>\n",
       "      <td>...</td>\n",
       "    </tr>\n",
       "    <tr>\n",
       "      <th>9995</th>\n",
       "      <td>3</td>\n",
       "      <td>5</td>\n",
       "      <td>False</td>\n",
       "    </tr>\n",
       "    <tr>\n",
       "      <th>9996</th>\n",
       "      <td>5</td>\n",
       "      <td>1</td>\n",
       "      <td>False</td>\n",
       "    </tr>\n",
       "    <tr>\n",
       "      <th>9997</th>\n",
       "      <td>6</td>\n",
       "      <td>6</td>\n",
       "      <td>True</td>\n",
       "    </tr>\n",
       "    <tr>\n",
       "      <th>9998</th>\n",
       "      <td>5</td>\n",
       "      <td>6</td>\n",
       "      <td>False</td>\n",
       "    </tr>\n",
       "    <tr>\n",
       "      <th>9999</th>\n",
       "      <td>6</td>\n",
       "      <td>2</td>\n",
       "      <td>False</td>\n",
       "    </tr>\n",
       "  </tbody>\n",
       "</table>\n",
       "<p>10000 rows × 3 columns</p>\n",
       "</div>"
      ],
      "text/plain": [
       "      die1  die2  if_doubles\n",
       "0        5     1       False\n",
       "1        4     6       False\n",
       "2        3     3        True\n",
       "3        5     4       False\n",
       "4        5     5        True\n",
       "...    ...   ...         ...\n",
       "9995     3     5       False\n",
       "9996     5     1       False\n",
       "9997     6     6        True\n",
       "9998     5     6       False\n",
       "9999     6     2       False\n",
       "\n",
       "[10000 rows x 3 columns]"
      ]
     },
     "execution_count": 152,
     "metadata": {},
     "output_type": "execute_result"
    }
   ],
   "source": [
    "rolls_df[\"if_doubles\"]= rolls_df[\"die1\"]==rolls_df[\"die2\"]\n",
    "rolls_df"
   ]
  },
  {
   "cell_type": "code",
   "execution_count": 153,
   "id": "51c96c6e",
   "metadata": {},
   "outputs": [
    {
     "data": {
      "text/plain": [
       "0.1664"
      ]
     },
     "execution_count": 153,
     "metadata": {},
     "output_type": "execute_result"
    }
   ],
   "source": [
    "(rolls_df[\"die1\"]==rolls_df[\"die2\"]).mean()"
   ]
  },
  {
   "cell_type": "code",
   "execution_count": null,
   "id": "bf5b7180",
   "metadata": {},
   "outputs": [],
   "source": []
  },
  {
   "cell_type": "code",
   "execution_count": 25,
   "id": "90c37b92",
   "metadata": {},
   "outputs": [],
   "source": [
    "# sums_by_trial = rolls.sum(axis=1)\n",
    "# sums_by_trial    #for converting the code into a sum of the lists in the array and summingnthem up"
   ]
  },
  {
   "cell_type": "markdown",
   "id": "f946657e",
   "metadata": {},
   "source": [
    "Exercise 2"
   ]
  },
  {
   "cell_type": "code",
   "execution_count": null,
   "id": "ce36971b",
   "metadata": {},
   "outputs": [],
   "source": [
    "# Next we create the rolls variable that holds a 3 x 10,000 matrix \n",
    "# where each element is a randomly chosen number from 1 to 6"
   ]
  },
  {
   "cell_type": "code",
   "execution_count": 156,
   "id": "cef6b9bc",
   "metadata": {},
   "outputs": [
    {
     "data": {
      "text/html": [
       "<div>\n",
       "<style scoped>\n",
       "    .dataframe tbody tr th:only-of-type {\n",
       "        vertical-align: middle;\n",
       "    }\n",
       "\n",
       "    .dataframe tbody tr th {\n",
       "        vertical-align: top;\n",
       "    }\n",
       "\n",
       "    .dataframe thead th {\n",
       "        text-align: right;\n",
       "    }\n",
       "</style>\n",
       "<table border=\"1\" class=\"dataframe\">\n",
       "  <thead>\n",
       "    <tr style=\"text-align: right;\">\n",
       "      <th></th>\n",
       "      <th>0</th>\n",
       "      <th>1</th>\n",
       "      <th>2</th>\n",
       "      <th>3</th>\n",
       "      <th>4</th>\n",
       "      <th>5</th>\n",
       "      <th>6</th>\n",
       "      <th>7</th>\n",
       "    </tr>\n",
       "  </thead>\n",
       "  <tbody>\n",
       "    <tr>\n",
       "      <th>0</th>\n",
       "      <td>1</td>\n",
       "      <td>0</td>\n",
       "      <td>1</td>\n",
       "      <td>1</td>\n",
       "      <td>0</td>\n",
       "      <td>1</td>\n",
       "      <td>1</td>\n",
       "      <td>0</td>\n",
       "    </tr>\n",
       "    <tr>\n",
       "      <th>1</th>\n",
       "      <td>1</td>\n",
       "      <td>0</td>\n",
       "      <td>0</td>\n",
       "      <td>0</td>\n",
       "      <td>1</td>\n",
       "      <td>1</td>\n",
       "      <td>1</td>\n",
       "      <td>0</td>\n",
       "    </tr>\n",
       "    <tr>\n",
       "      <th>2</th>\n",
       "      <td>1</td>\n",
       "      <td>1</td>\n",
       "      <td>1</td>\n",
       "      <td>1</td>\n",
       "      <td>0</td>\n",
       "      <td>1</td>\n",
       "      <td>1</td>\n",
       "      <td>1</td>\n",
       "    </tr>\n",
       "    <tr>\n",
       "      <th>3</th>\n",
       "      <td>1</td>\n",
       "      <td>0</td>\n",
       "      <td>1</td>\n",
       "      <td>0</td>\n",
       "      <td>1</td>\n",
       "      <td>0</td>\n",
       "      <td>0</td>\n",
       "      <td>0</td>\n",
       "    </tr>\n",
       "    <tr>\n",
       "      <th>4</th>\n",
       "      <td>0</td>\n",
       "      <td>0</td>\n",
       "      <td>0</td>\n",
       "      <td>1</td>\n",
       "      <td>0</td>\n",
       "      <td>1</td>\n",
       "      <td>0</td>\n",
       "      <td>1</td>\n",
       "    </tr>\n",
       "  </tbody>\n",
       "</table>\n",
       "</div>"
      ],
      "text/plain": [
       "   0  1  2  3  4  5  6  7\n",
       "0  1  0  1  1  0  1  1  0\n",
       "1  1  0  0  0  1  1  1  0\n",
       "2  1  1  1  1  0  1  1  1\n",
       "3  1  0  1  0  1  0  0  0\n",
       "4  0  0  0  1  0  1  0  1"
      ]
     },
     "execution_count": 156,
     "metadata": {},
     "output_type": "execute_result"
    }
   ],
   "source": [
    "num_trials = num_rows = 10000\n",
    "num_flips  = num_cols = 8\n",
    "toss = np.random.choice([0,1], num_trials*num_dice).reshape(num_rows,num_cols)\n",
    "toss\n",
    "toss_df = pd.DataFrame(toss)\n",
    "toss_df.head()"
   ]
  },
  {
   "cell_type": "code",
   "execution_count": 161,
   "id": "90f1a940",
   "metadata": {
    "scrolled": true
   },
   "outputs": [
    {
     "data": {
      "text/html": [
       "<div>\n",
       "<style scoped>\n",
       "    .dataframe tbody tr th:only-of-type {\n",
       "        vertical-align: middle;\n",
       "    }\n",
       "\n",
       "    .dataframe tbody tr th {\n",
       "        vertical-align: top;\n",
       "    }\n",
       "\n",
       "    .dataframe thead th {\n",
       "        text-align: right;\n",
       "    }\n",
       "</style>\n",
       "<table border=\"1\" class=\"dataframe\">\n",
       "  <thead>\n",
       "    <tr style=\"text-align: right;\">\n",
       "      <th></th>\n",
       "      <th>0</th>\n",
       "      <th>1</th>\n",
       "      <th>2</th>\n",
       "      <th>3</th>\n",
       "      <th>4</th>\n",
       "      <th>5</th>\n",
       "      <th>6</th>\n",
       "      <th>7</th>\n",
       "      <th>sum_of_toss</th>\n",
       "    </tr>\n",
       "  </thead>\n",
       "  <tbody>\n",
       "    <tr>\n",
       "      <th>0</th>\n",
       "      <td>1</td>\n",
       "      <td>0</td>\n",
       "      <td>1</td>\n",
       "      <td>1</td>\n",
       "      <td>0</td>\n",
       "      <td>1</td>\n",
       "      <td>1</td>\n",
       "      <td>0</td>\n",
       "      <td>5</td>\n",
       "    </tr>\n",
       "    <tr>\n",
       "      <th>1</th>\n",
       "      <td>1</td>\n",
       "      <td>0</td>\n",
       "      <td>0</td>\n",
       "      <td>0</td>\n",
       "      <td>1</td>\n",
       "      <td>1</td>\n",
       "      <td>1</td>\n",
       "      <td>0</td>\n",
       "      <td>4</td>\n",
       "    </tr>\n",
       "    <tr>\n",
       "      <th>2</th>\n",
       "      <td>1</td>\n",
       "      <td>1</td>\n",
       "      <td>1</td>\n",
       "      <td>1</td>\n",
       "      <td>0</td>\n",
       "      <td>1</td>\n",
       "      <td>1</td>\n",
       "      <td>1</td>\n",
       "      <td>7</td>\n",
       "    </tr>\n",
       "    <tr>\n",
       "      <th>3</th>\n",
       "      <td>1</td>\n",
       "      <td>0</td>\n",
       "      <td>1</td>\n",
       "      <td>0</td>\n",
       "      <td>1</td>\n",
       "      <td>0</td>\n",
       "      <td>0</td>\n",
       "      <td>0</td>\n",
       "      <td>3</td>\n",
       "    </tr>\n",
       "    <tr>\n",
       "      <th>4</th>\n",
       "      <td>0</td>\n",
       "      <td>0</td>\n",
       "      <td>0</td>\n",
       "      <td>1</td>\n",
       "      <td>0</td>\n",
       "      <td>1</td>\n",
       "      <td>0</td>\n",
       "      <td>1</td>\n",
       "      <td>3</td>\n",
       "    </tr>\n",
       "    <tr>\n",
       "      <th>...</th>\n",
       "      <td>...</td>\n",
       "      <td>...</td>\n",
       "      <td>...</td>\n",
       "      <td>...</td>\n",
       "      <td>...</td>\n",
       "      <td>...</td>\n",
       "      <td>...</td>\n",
       "      <td>...</td>\n",
       "      <td>...</td>\n",
       "    </tr>\n",
       "    <tr>\n",
       "      <th>9995</th>\n",
       "      <td>0</td>\n",
       "      <td>1</td>\n",
       "      <td>0</td>\n",
       "      <td>0</td>\n",
       "      <td>1</td>\n",
       "      <td>0</td>\n",
       "      <td>1</td>\n",
       "      <td>0</td>\n",
       "      <td>3</td>\n",
       "    </tr>\n",
       "    <tr>\n",
       "      <th>9996</th>\n",
       "      <td>1</td>\n",
       "      <td>0</td>\n",
       "      <td>1</td>\n",
       "      <td>0</td>\n",
       "      <td>1</td>\n",
       "      <td>0</td>\n",
       "      <td>1</td>\n",
       "      <td>1</td>\n",
       "      <td>5</td>\n",
       "    </tr>\n",
       "    <tr>\n",
       "      <th>9997</th>\n",
       "      <td>1</td>\n",
       "      <td>1</td>\n",
       "      <td>1</td>\n",
       "      <td>1</td>\n",
       "      <td>0</td>\n",
       "      <td>0</td>\n",
       "      <td>1</td>\n",
       "      <td>0</td>\n",
       "      <td>5</td>\n",
       "    </tr>\n",
       "    <tr>\n",
       "      <th>9998</th>\n",
       "      <td>1</td>\n",
       "      <td>1</td>\n",
       "      <td>0</td>\n",
       "      <td>0</td>\n",
       "      <td>0</td>\n",
       "      <td>0</td>\n",
       "      <td>1</td>\n",
       "      <td>0</td>\n",
       "      <td>3</td>\n",
       "    </tr>\n",
       "    <tr>\n",
       "      <th>9999</th>\n",
       "      <td>0</td>\n",
       "      <td>1</td>\n",
       "      <td>0</td>\n",
       "      <td>1</td>\n",
       "      <td>0</td>\n",
       "      <td>0</td>\n",
       "      <td>1</td>\n",
       "      <td>1</td>\n",
       "      <td>4</td>\n",
       "    </tr>\n",
       "  </tbody>\n",
       "</table>\n",
       "<p>10000 rows × 9 columns</p>\n",
       "</div>"
      ],
      "text/plain": [
       "      0  1  2  3  4  5  6  7  sum_of_toss\n",
       "0     1  0  1  1  0  1  1  0            5\n",
       "1     1  0  0  0  1  1  1  0            4\n",
       "2     1  1  1  1  0  1  1  1            7\n",
       "3     1  0  1  0  1  0  0  0            3\n",
       "4     0  0  0  1  0  1  0  1            3\n",
       "...  .. .. .. .. .. .. .. ..          ...\n",
       "9995  0  1  0  0  1  0  1  0            3\n",
       "9996  1  0  1  0  1  0  1  1            5\n",
       "9997  1  1  1  1  0  0  1  0            5\n",
       "9998  1  1  0  0  0  0  1  0            3\n",
       "9999  0  1  0  1  0  0  1  1            4\n",
       "\n",
       "[10000 rows x 9 columns]"
      ]
     },
     "execution_count": 161,
     "metadata": {},
     "output_type": "execute_result"
    }
   ],
   "source": [
    "toss_df[\"sum_of_toss\"] = sum_toss= (toss_df.sum(axis =1))\n",
    "toss_df\n"
   ]
  },
  {
   "cell_type": "code",
   "execution_count": 162,
   "id": "8c5ad247",
   "metadata": {},
   "outputs": [
    {
     "data": {
      "text/plain": [
       "0.2175"
      ]
     },
     "execution_count": 162,
     "metadata": {},
     "output_type": "execute_result"
    }
   ],
   "source": [
    "(toss_df.sum_of_toss ==3).mean() #counts and averages the values at third sow in a boolean \n"
   ]
  },
  {
   "cell_type": "code",
   "execution_count": 166,
   "id": "0c692bba",
   "metadata": {
    "scrolled": true
   },
   "outputs": [
    {
     "data": {
      "text/plain": [
       "0.6388"
      ]
     },
     "execution_count": 166,
     "metadata": {},
     "output_type": "execute_result"
    }
   ],
   "source": [
    "# What's the probability of getting more than 3 heads\n",
    "(toss_df.sum_of_toss >3).mean()"
   ]
  },
  {
   "cell_type": "markdown",
   "id": "73a1cb4f",
   "metadata": {},
   "source": [
    "Exercise 3"
   ]
  },
  {
   "cell_type": "code",
   "execution_count": null,
   "id": "5f062ff4",
   "metadata": {},
   "outputs": [],
   "source": [
    "# There are approximitely 3 web development cohorts for every 1 data science cohort at Codeup. \n",
    "# Assuming that Codeup randomly selects an alumni to put on a billboard, \n",
    "# what are the odds that the two billboards I drive past both have data science students on them?\n"
   ]
  },
  {
   "cell_type": "code",
   "execution_count": 179,
   "id": "1dfbfc58",
   "metadata": {},
   "outputs": [
    {
     "data": {
      "text/html": [
       "<div>\n",
       "<style scoped>\n",
       "    .dataframe tbody tr th:only-of-type {\n",
       "        vertical-align: middle;\n",
       "    }\n",
       "\n",
       "    .dataframe tbody tr th {\n",
       "        vertical-align: top;\n",
       "    }\n",
       "\n",
       "    .dataframe thead th {\n",
       "        text-align: right;\n",
       "    }\n",
       "</style>\n",
       "<table border=\"1\" class=\"dataframe\">\n",
       "  <thead>\n",
       "    <tr style=\"text-align: right;\">\n",
       "      <th></th>\n",
       "      <th>toss_1</th>\n",
       "      <th>toss_2</th>\n",
       "    </tr>\n",
       "  </thead>\n",
       "  <tbody>\n",
       "    <tr>\n",
       "      <th>0</th>\n",
       "      <td>0</td>\n",
       "      <td>0</td>\n",
       "    </tr>\n",
       "    <tr>\n",
       "      <th>1</th>\n",
       "      <td>0</td>\n",
       "      <td>1</td>\n",
       "    </tr>\n",
       "    <tr>\n",
       "      <th>2</th>\n",
       "      <td>0</td>\n",
       "      <td>0</td>\n",
       "    </tr>\n",
       "    <tr>\n",
       "      <th>3</th>\n",
       "      <td>0</td>\n",
       "      <td>0</td>\n",
       "    </tr>\n",
       "    <tr>\n",
       "      <th>4</th>\n",
       "      <td>1</td>\n",
       "      <td>1</td>\n",
       "    </tr>\n",
       "    <tr>\n",
       "      <th>...</th>\n",
       "      <td>...</td>\n",
       "      <td>...</td>\n",
       "    </tr>\n",
       "    <tr>\n",
       "      <th>9995</th>\n",
       "      <td>0</td>\n",
       "      <td>0</td>\n",
       "    </tr>\n",
       "    <tr>\n",
       "      <th>9996</th>\n",
       "      <td>0</td>\n",
       "      <td>0</td>\n",
       "    </tr>\n",
       "    <tr>\n",
       "      <th>9997</th>\n",
       "      <td>0</td>\n",
       "      <td>0</td>\n",
       "    </tr>\n",
       "    <tr>\n",
       "      <th>9998</th>\n",
       "      <td>1</td>\n",
       "      <td>0</td>\n",
       "    </tr>\n",
       "    <tr>\n",
       "      <th>9999</th>\n",
       "      <td>0</td>\n",
       "      <td>0</td>\n",
       "    </tr>\n",
       "  </tbody>\n",
       "</table>\n",
       "<p>10000 rows × 2 columns</p>\n",
       "</div>"
      ],
      "text/plain": [
       "      toss_1  toss_2\n",
       "0          0       0\n",
       "1          0       1\n",
       "2          0       0\n",
       "3          0       0\n",
       "4          1       1\n",
       "...      ...     ...\n",
       "9995       0       0\n",
       "9996       0       0\n",
       "9997       0       0\n",
       "9998       1       0\n",
       "9999       0       0\n",
       "\n",
       "[10000 rows x 2 columns]"
      ]
     },
     "execution_count": 179,
     "metadata": {},
     "output_type": "execute_result"
    }
   ],
   "source": [
    "num_trials = num_rows1 = 10000\n",
    "num_group  = num_cols1 = 2\n",
    "toss2 = np.random.choice([0,1], num_trials*num_group, p = (0.75, 0.25)).reshape(num_rows1,num_cols1)\n",
    "df_toss2=pd.DataFrame(toss2, columns=[\"toss_1\",\"toss_2\"])\n",
    "df_toss2\n",
    "# rolls_df = pd.DataFrame(rolls, columns=[\"die1\", \"die2\"])\n",
    "# rolls_df"
   ]
  },
  {
   "cell_type": "code",
   "execution_count": 180,
   "id": "90867fee",
   "metadata": {},
   "outputs": [
    {
     "data": {
      "text/html": [
       "<div>\n",
       "<style scoped>\n",
       "    .dataframe tbody tr th:only-of-type {\n",
       "        vertical-align: middle;\n",
       "    }\n",
       "\n",
       "    .dataframe tbody tr th {\n",
       "        vertical-align: top;\n",
       "    }\n",
       "\n",
       "    .dataframe thead th {\n",
       "        text-align: right;\n",
       "    }\n",
       "</style>\n",
       "<table border=\"1\" class=\"dataframe\">\n",
       "  <thead>\n",
       "    <tr style=\"text-align: right;\">\n",
       "      <th></th>\n",
       "      <th>toss_1</th>\n",
       "      <th>toss_2</th>\n",
       "      <th>sum_of_toss</th>\n",
       "    </tr>\n",
       "  </thead>\n",
       "  <tbody>\n",
       "    <tr>\n",
       "      <th>0</th>\n",
       "      <td>0</td>\n",
       "      <td>0</td>\n",
       "      <td>0</td>\n",
       "    </tr>\n",
       "    <tr>\n",
       "      <th>1</th>\n",
       "      <td>0</td>\n",
       "      <td>1</td>\n",
       "      <td>1</td>\n",
       "    </tr>\n",
       "    <tr>\n",
       "      <th>2</th>\n",
       "      <td>0</td>\n",
       "      <td>0</td>\n",
       "      <td>0</td>\n",
       "    </tr>\n",
       "    <tr>\n",
       "      <th>3</th>\n",
       "      <td>0</td>\n",
       "      <td>0</td>\n",
       "      <td>0</td>\n",
       "    </tr>\n",
       "    <tr>\n",
       "      <th>4</th>\n",
       "      <td>1</td>\n",
       "      <td>1</td>\n",
       "      <td>2</td>\n",
       "    </tr>\n",
       "    <tr>\n",
       "      <th>...</th>\n",
       "      <td>...</td>\n",
       "      <td>...</td>\n",
       "      <td>...</td>\n",
       "    </tr>\n",
       "    <tr>\n",
       "      <th>9995</th>\n",
       "      <td>0</td>\n",
       "      <td>0</td>\n",
       "      <td>0</td>\n",
       "    </tr>\n",
       "    <tr>\n",
       "      <th>9996</th>\n",
       "      <td>0</td>\n",
       "      <td>0</td>\n",
       "      <td>0</td>\n",
       "    </tr>\n",
       "    <tr>\n",
       "      <th>9997</th>\n",
       "      <td>0</td>\n",
       "      <td>0</td>\n",
       "      <td>0</td>\n",
       "    </tr>\n",
       "    <tr>\n",
       "      <th>9998</th>\n",
       "      <td>1</td>\n",
       "      <td>0</td>\n",
       "      <td>1</td>\n",
       "    </tr>\n",
       "    <tr>\n",
       "      <th>9999</th>\n",
       "      <td>0</td>\n",
       "      <td>0</td>\n",
       "      <td>0</td>\n",
       "    </tr>\n",
       "  </tbody>\n",
       "</table>\n",
       "<p>10000 rows × 3 columns</p>\n",
       "</div>"
      ],
      "text/plain": [
       "      toss_1  toss_2  sum_of_toss\n",
       "0          0       0            0\n",
       "1          0       1            1\n",
       "2          0       0            0\n",
       "3          0       0            0\n",
       "4          1       1            2\n",
       "...      ...     ...          ...\n",
       "9995       0       0            0\n",
       "9996       0       0            0\n",
       "9997       0       0            0\n",
       "9998       1       0            1\n",
       "9999       0       0            0\n",
       "\n",
       "[10000 rows x 3 columns]"
      ]
     },
     "execution_count": 180,
     "metadata": {},
     "output_type": "execute_result"
    }
   ],
   "source": [
    "df_toss2[\"sum_of_toss\"] = sum_dstoss= (df_toss2.sum(axis =1))\n",
    "df_toss2"
   ]
  },
  {
   "cell_type": "code",
   "execution_count": 183,
   "id": "be3685aa",
   "metadata": {
    "scrolled": true
   },
   "outputs": [
    {
     "data": {
      "text/plain": [
       "0.0636"
      ]
     },
     "execution_count": 183,
     "metadata": {},
     "output_type": "execute_result"
    }
   ],
   "source": [
    "(df_toss2.sum_of_toss ==2).mean()"
   ]
  },
  {
   "cell_type": "markdown",
   "id": "e23eaa5c",
   "metadata": {},
   "source": [
    "Exercise 4"
   ]
  },
  {
   "cell_type": "code",
   "execution_count": null,
   "id": "96da4e74",
   "metadata": {},
   "outputs": [],
   "source": [
    "# Codeup students buy, on average, 3 poptart packages with a standard deviation of 1.5 a day from the snack vending machine. \n",
    "# If on monday the machine is restocked with 17 poptart packages, how likely is it that I will be able to \n",
    "# buy some poptarts on Friday afternoon? (Remember, if you have mean and standard deviation, use the np.random.normal)\n"
   ]
  },
  {
   "cell_type": "code",
   "execution_count": 184,
   "id": "176d5994",
   "metadata": {
    "scrolled": true
   },
   "outputs": [
    {
     "data": {
      "text/html": [
       "<div>\n",
       "<style scoped>\n",
       "    .dataframe tbody tr th:only-of-type {\n",
       "        vertical-align: middle;\n",
       "    }\n",
       "\n",
       "    .dataframe tbody tr th {\n",
       "        vertical-align: top;\n",
       "    }\n",
       "\n",
       "    .dataframe thead th {\n",
       "        text-align: right;\n",
       "    }\n",
       "</style>\n",
       "<table border=\"1\" class=\"dataframe\">\n",
       "  <thead>\n",
       "    <tr style=\"text-align: right;\">\n",
       "      <th></th>\n",
       "      <th>Mon</th>\n",
       "      <th>Tue</th>\n",
       "      <th>Wed</th>\n",
       "      <th>Thur</th>\n",
       "      <th>Fri</th>\n",
       "    </tr>\n",
       "  </thead>\n",
       "  <tbody>\n",
       "    <tr>\n",
       "      <th>0</th>\n",
       "      <td>3.250783</td>\n",
       "      <td>2.511442</td>\n",
       "      <td>3.344567</td>\n",
       "      <td>1.201960</td>\n",
       "      <td>3.312568</td>\n",
       "    </tr>\n",
       "    <tr>\n",
       "      <th>1</th>\n",
       "      <td>3.415889</td>\n",
       "      <td>4.771367</td>\n",
       "      <td>4.455329</td>\n",
       "      <td>2.667879</td>\n",
       "      <td>0.020022</td>\n",
       "    </tr>\n",
       "    <tr>\n",
       "      <th>2</th>\n",
       "      <td>3.668038</td>\n",
       "      <td>0.441705</td>\n",
       "      <td>3.145243</td>\n",
       "      <td>3.018436</td>\n",
       "      <td>3.608722</td>\n",
       "    </tr>\n",
       "    <tr>\n",
       "      <th>3</th>\n",
       "      <td>5.960735</td>\n",
       "      <td>3.027704</td>\n",
       "      <td>4.121983</td>\n",
       "      <td>2.396978</td>\n",
       "      <td>4.086534</td>\n",
       "    </tr>\n",
       "    <tr>\n",
       "      <th>4</th>\n",
       "      <td>2.164004</td>\n",
       "      <td>3.559431</td>\n",
       "      <td>2.061891</td>\n",
       "      <td>2.870959</td>\n",
       "      <td>4.159657</td>\n",
       "    </tr>\n",
       "    <tr>\n",
       "      <th>...</th>\n",
       "      <td>...</td>\n",
       "      <td>...</td>\n",
       "      <td>...</td>\n",
       "      <td>...</td>\n",
       "      <td>...</td>\n",
       "    </tr>\n",
       "    <tr>\n",
       "      <th>9995</th>\n",
       "      <td>1.391382</td>\n",
       "      <td>3.831743</td>\n",
       "      <td>3.018160</td>\n",
       "      <td>4.638202</td>\n",
       "      <td>2.607841</td>\n",
       "    </tr>\n",
       "    <tr>\n",
       "      <th>9996</th>\n",
       "      <td>3.137079</td>\n",
       "      <td>4.202499</td>\n",
       "      <td>3.373201</td>\n",
       "      <td>2.459599</td>\n",
       "      <td>2.063428</td>\n",
       "    </tr>\n",
       "    <tr>\n",
       "      <th>9997</th>\n",
       "      <td>3.995572</td>\n",
       "      <td>3.048882</td>\n",
       "      <td>3.859695</td>\n",
       "      <td>3.272005</td>\n",
       "      <td>0.182406</td>\n",
       "    </tr>\n",
       "    <tr>\n",
       "      <th>9998</th>\n",
       "      <td>1.720960</td>\n",
       "      <td>2.764978</td>\n",
       "      <td>2.524056</td>\n",
       "      <td>2.000920</td>\n",
       "      <td>1.462655</td>\n",
       "    </tr>\n",
       "    <tr>\n",
       "      <th>9999</th>\n",
       "      <td>4.075047</td>\n",
       "      <td>1.431907</td>\n",
       "      <td>1.557481</td>\n",
       "      <td>6.710486</td>\n",
       "      <td>5.440310</td>\n",
       "    </tr>\n",
       "  </tbody>\n",
       "</table>\n",
       "<p>10000 rows × 5 columns</p>\n",
       "</div>"
      ],
      "text/plain": [
       "           Mon       Tue       Wed      Thur       Fri\n",
       "0     3.250783  2.511442  3.344567  1.201960  3.312568\n",
       "1     3.415889  4.771367  4.455329  2.667879  0.020022\n",
       "2     3.668038  0.441705  3.145243  3.018436  3.608722\n",
       "3     5.960735  3.027704  4.121983  2.396978  4.086534\n",
       "4     2.164004  3.559431  2.061891  2.870959  4.159657\n",
       "...        ...       ...       ...       ...       ...\n",
       "9995  1.391382  3.831743  3.018160  4.638202  2.607841\n",
       "9996  3.137079  4.202499  3.373201  2.459599  2.063428\n",
       "9997  3.995572  3.048882  3.859695  3.272005  0.182406\n",
       "9998  1.720960  2.764978  2.524056  2.000920  1.462655\n",
       "9999  4.075047  1.431907  1.557481  6.710486  5.440310\n",
       "\n",
       "[10000 rows x 5 columns]"
      ]
     },
     "execution_count": 184,
     "metadata": {},
     "output_type": "execute_result"
    }
   ],
   "source": [
    "num_trials1 = num_rows1 = 10000\n",
    "num_days  = num_col_days1 = 5\n",
    "a_vg= 3\n",
    "s_td = 1.5\n",
    "pop_t = np.random.normal(3,1.5, size= (num_rows1,num_col_days1))\n",
    "pop_t\n",
    "# n_rows = 10_000\n",
    "# n_cols = 5 # to represent a 5 day week\n",
    "# µ = 3\n",
    "# σ = 1.5\n",
    "# poptarts = np.random.normal(µ, σ, size=(n_rows, n_cols)).round()\n",
    "# poptarts = pd.DataFrame(poptarts, columns=[\"Mon\", \"Tues\", \"Wed\", \"Thur\", \"Fri\"])\n",
    "# poptarts.head()\n",
    "pop_t_df= pd.DataFrame(pop_t, columns=[\"Mon\",\"Tue\",\"Wed\",\"Thur\",\"Fri\"])\n",
    "pop_t_df"
   ]
  },
  {
   "cell_type": "code",
   "execution_count": 192,
   "id": "cbad61f6",
   "metadata": {
    "scrolled": true
   },
   "outputs": [
    {
     "data": {
      "text/plain": [
       "0.7233"
      ]
     },
     "execution_count": 192,
     "metadata": {},
     "output_type": "execute_result"
    }
   ],
   "source": [
    "(pop_t_df.sum(axis=1)<17).mean()"
   ]
  },
  {
   "cell_type": "code",
   "execution_count": null,
   "id": "89335bd7",
   "metadata": {},
   "outputs": [],
   "source": []
  },
  {
   "cell_type": "code",
   "execution_count": null,
   "id": "d31909db",
   "metadata": {},
   "outputs": [],
   "source": []
  },
  {
   "cell_type": "code",
   "execution_count": null,
   "id": "444cd58b",
   "metadata": {},
   "outputs": [],
   "source": [
    "# Men have an average height of 178 cm and standard deviation of 8cm.\n",
    "# Women have a mean of 170, sd = 6cm.\n",
    "# Since you have means and standard deviations, you can use np.random.normal to generate observations.\n",
    "# If a man and woman are chosen at random, what is the likelihood the woman is taller than the man?\n"
   ]
  },
  {
   "cell_type": "code",
   "execution_count": 230,
   "id": "6fcd3be8",
   "metadata": {},
   "outputs": [
    {
     "data": {
      "text/plain": [
       "0.2141"
      ]
     },
     "execution_count": 230,
     "metadata": {},
     "output_type": "execute_result"
    }
   ],
   "source": [
    "men_height = np.random.normal(178, 8, 10000)\n",
    "women_height = np.random.normal(170, 6, 10000)\n",
    "# Since you have means and standard deviations, you can use np.random.normal to generate observations.\n",
    "\n",
    "\n",
    "(women_height >men_height).mean()"
   ]
  },
  {
   "cell_type": "code",
   "execution_count": 234,
   "id": "24ed80f1",
   "metadata": {},
   "outputs": [
    {
     "data": {
      "text/plain": [
       "0.81949"
      ]
     },
     "execution_count": 234,
     "metadata": {},
     "output_type": "execute_result"
    }
   ],
   "source": [
    "# When installing anaconda on a student's computer, there's a 1 in 250 chance that the download is \n",
    "# corrupted and the installation fails. What are the odds that after having 50 students download anaconda, \n",
    "# no one has an installation issue? 100 students?\n",
    "num_trials = num_rows1 = 100000\n",
    "corrupt  = num_cols1 = 50\n",
    "outcome = np.random.choice([0,1], p = (0.004, 0.996), size = (num_rows1,num_cols1))\n",
    "# installs = np.random.choice([0, 1], p=[0.004, 0.996], size=(n_rows, n_columns))\n",
    "(outcome.sum(axis=1)==50).mean()\n"
   ]
  },
  {
   "cell_type": "code",
   "execution_count": 244,
   "id": "b3d0cdcc",
   "metadata": {},
   "outputs": [
    {
     "data": {
      "text/plain": [
       "0.6799"
      ]
     },
     "execution_count": 244,
     "metadata": {},
     "output_type": "execute_result"
    }
   ],
   "source": [
    "num_trials = num_rows1 = 10000\n",
    "corrupt  = num_cols1 = 100\n",
    "outcome = np.random.choice([0,1], p = (0.004, 0.996),size = (num_rows1,num_cols1))\n",
    "(outcome.sum(axis=1)==100).mean()"
   ]
  },
  {
   "cell_type": "code",
   "execution_count": null,
   "id": "30b37c89",
   "metadata": {},
   "outputs": [],
   "source": []
  },
  {
   "cell_type": "code",
   "execution_count": 249,
   "id": "2ca20cbe",
   "metadata": {},
   "outputs": [
    {
     "data": {
      "text/plain": [
       "0.5437"
      ]
     },
     "execution_count": 249,
     "metadata": {},
     "output_type": "execute_result"
    }
   ],
   "source": [
    "# What is the probability that we observe an installation issue within the first 150 students that download anaconda?\n",
    "num_trials = num_rows1 = 10000\n",
    "corrupt  = num_cols1 = 150\n",
    "outcome = np.random.choice([0,1], p = (0.004, 0.996), size = (num_rows1,num_cols1))\n",
    "(outcome.sum(axis=1)==150).mean()"
   ]
  },
  {
   "cell_type": "code",
   "execution_count": 253,
   "id": "d3003249",
   "metadata": {},
   "outputs": [
    {
     "data": {
      "text/plain": [
       "0.1648"
      ]
     },
     "execution_count": 253,
     "metadata": {},
     "output_type": "execute_result"
    }
   ],
   "source": [
    "# How likely is it that 450 students all download anaconda without an issue?\n",
    "num_trials = num_rows1 = 10000\n",
    "corrupt  = num_cols1 = 450\n",
    "outcome = np.random.choice([0,1], p = (0.004, 0.996), size = (num_rows1,num_cols1))\n",
    "(outcome.sum(axis=1)==450).mean()"
   ]
  },
  {
   "cell_type": "code",
   "execution_count": 255,
   "id": "287e34cc",
   "metadata": {},
   "outputs": [
    {
     "data": {
      "text/plain": [
       "0.0278"
      ]
     },
     "execution_count": 255,
     "metadata": {},
     "output_type": "execute_result"
    }
   ],
   "source": [
    "# There's a 70% chance on any given day that there will be at least one food truck at Travis Park. However, you haven't seen a food truck there in 3 days. How unlikely is this?\n",
    "num_trials = num_rows1 = 10000\n",
    "food_truck  = num_cols1 = 3\n",
    "outcome = np.random.choice([1,0], p = (0.7, 0.3),size = (num_rows1,num_cols1))\n",
    "(outcome.sum(axis=1)==0).mean()\n",
    "\n",
    "\n"
   ]
  },
  {
   "cell_type": "code",
   "execution_count": 265,
   "id": "36056b49",
   "metadata": {},
   "outputs": [
    {
     "data": {
      "text/plain": [
       "0.9928"
      ]
     },
     "execution_count": 265,
     "metadata": {},
     "output_type": "execute_result"
    }
   ],
   "source": [
    "# What's the probability of seeing a food truck in the next 2 days?\n",
    "# Food truck presence (in this setup is independent)\n",
    "num_trials = num_rows1 = 10000\n",
    "num_cols = 2 # to represent 2 days in a row\n",
    "\n",
    "outcome = np.random.choice([1, 0], size=(num_rows1, num_cols1), p=[0.7, 0.3])\n",
    "(outcome.sum(axis=1) > 0).mean()"
   ]
  },
  {
   "cell_type": "code",
   "execution_count": 259,
   "id": "76660646",
   "metadata": {},
   "outputs": [
    {
     "data": {
      "text/plain": [
       "0.7612"
      ]
     },
     "execution_count": 259,
     "metadata": {},
     "output_type": "execute_result"
    }
   ],
   "source": [
    "# How likely is it that a food truck will show up sometime this week? still have 4 days left\n",
    "num_trials = num_rows1 = 10000\n",
    "food_truck  = num_cols1 = 4\n",
    "outcome = np.random.choice([0,1], p = (0.7, 0.3),size = (num_rows1,num_cols1))\n",
    "(outcome.sum(axis=1)>0).mean()\n",
    "\n"
   ]
  },
  {
   "cell_type": "code",
   "execution_count": null,
   "id": "cff30de8",
   "metadata": {},
   "outputs": [],
   "source": [
    "n_rows = 10_000\n",
    "n_cols = 23 # to represent 23 individuals\n",
    "\n",
    "birthdays = np.random.choice(range(365), size=(n_rows, n_cols))\n",
    "birthdays = pd.DataFrame(birthdays)\n",
    "birthdays[\"n_unique\"] = birthdays.nunique(axis=1)\n",
    "\n",
    "(birthdays.n_unique != 23).mean()"
   ]
  },
  {
   "cell_type": "code",
   "execution_count": 272,
   "id": "be5ff097",
   "metadata": {},
   "outputs": [
    {
     "data": {
      "text/plain": [
       "0.5086"
      ]
     },
     "execution_count": 272,
     "metadata": {},
     "output_type": "execute_result"
    }
   ],
   "source": [
    "# If 23 people are in the same room, what are the odds that two of them share a birthday? \n",
    "num_trials = num_rows1 = 10000\n",
    "people  = num_cols1 = 23\n",
    "birthdays = np.random.choice(range(365), size = (num_rows1,num_cols1))\n",
    "birthdays = pd.DataFrame(birthdays)\n",
    "birthdays[\"n_unique\"] = birthdays.nunique(axis=1)\n",
    "birthdays\n",
    "(birthdays.n_unique != 23).mean()  # What's the proportion of rows where we have multiple shared days\n"
   ]
  },
  {
   "cell_type": "code",
   "execution_count": 273,
   "id": "53099ac2",
   "metadata": {},
   "outputs": [
    {
     "data": {
      "text/plain": [
       "0.408"
      ]
     },
     "execution_count": 273,
     "metadata": {},
     "output_type": "execute_result"
    }
   ],
   "source": [
    "# What if it's 20 people? 40?\n",
    "num_trials = num_rows1 = 10000\n",
    "people  = num_cols1 = 20\n",
    "birthdays = np.random.choice(range(365), size = (num_rows1,num_cols1))\n",
    "birthdays = pd.DataFrame(birthdays)\n",
    "birthdays[\"n_unique\"] = birthdays.nunique(axis=1)\n",
    "birthdays\n",
    "(birthdays.n_unique != 20).mean()"
   ]
  },
  {
   "cell_type": "code",
   "execution_count": 274,
   "id": "c11aa0df",
   "metadata": {},
   "outputs": [
    {
     "data": {
      "text/plain": [
       "0.8914"
      ]
     },
     "execution_count": 274,
     "metadata": {},
     "output_type": "execute_result"
    }
   ],
   "source": [
    "num_trials = num_rows1 = 10000\n",
    "people  = num_cols1 = 40\n",
    "birthdays = np.random.choice(range(365), size = (num_rows1,num_cols1))\n",
    "birthdays = pd.DataFrame(birthdays)\n",
    "birthdays[\"n_unique\"] = birthdays.nunique(axis=1)\n",
    "birthdays\n",
    "(birthdays.n_unique != 40).mean()"
   ]
  },
  {
   "cell_type": "code",
   "execution_count": 9,
   "id": "1c3b60e9",
   "metadata": {},
   "outputs": [],
   "source": [
    "# What if we have rooms of increasing size\n",
    "\n",
    "x = range(1, 100)\n",
    "\n",
    "# N will be a list of N for each room size\n",
    "N = [n * (n-1) / 2 for n in x]\n",
    "\n",
    "# Get the probability for each N\n",
    "y = [1 - (364/365)**n for n in N]"
   ]
  },
  {
   "cell_type": "code",
   "execution_count": 10,
   "id": "51faf667",
   "metadata": {},
   "outputs": [
    {
     "data": {
      "text/plain": [
       "Text(0, 0.5, 'Probability')"
      ]
     },
     "execution_count": 10,
     "metadata": {},
     "output_type": "execute_result"
    },
    {
     "data": {
      "image/png": "[encoded data removed]",
      "text/plain": [
       "<Figure size 432x288 with 1 Axes>"
      ]
     },
     "metadata": {
      "needs_background": "light"
     },
     "output_type": "display_data"
    }
   ],
   "source": [
    "import matplotlib.pyplot as plt\n",
    "\n",
    "plt.title(\"Probability of at least two people sharing a birthday\")\n",
    "plt.plot(x, y)\n",
    "plt.xlabel(\"Number of people in the room\")\n",
    "plt.ylabel(\"Probability\")"
   ]
  }
 ],
 "metadata": {
  "kernelspec": {
   "display_name": "Python 3 (ipykernel)",
   "language": "python",
   "name": "python3"
  },
  "language_info": {
   "codemirror_mode": {
    "name": "ipython",
    "version": 3
   },
   "file_extension": ".py",
   "mimetype": "text/x-python",
   "name": "python",
   "nbconvert_exporter": "python",
   "pygments_lexer": "ipython3",
   "version": "3.9.7"
  }
 },
 "nbformat": 4,
 "nbformat_minor": 5
}
